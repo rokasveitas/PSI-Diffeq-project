{
 "cells": [
  {
   "cell_type": "markdown",
   "id": "apparent-overall",
   "metadata": {},
   "source": [
    "# Homework project for the \"Differential Equations\" course module"
   ]
  },
  {
   "cell_type": "markdown",
   "id": "detected-thomas",
   "metadata": {},
   "source": [
    "1. Solve the wave equation `dt^2 u(t,x) = dx^2 u(t,x)` numerically. Use a `1+1`-dimensional domain, and use Dirichlet boundary conditions `u(t,-L) = u(t,+L) = 0`. Use the spatial domain bounds `[-1; +1]`, and use the Gaussian-like function `f(t,x) = A exp(-1/2 sin(2pi (x-t))^2 / W^2)` as initial condition. Use `L=1, A=1, W=0.2` as parameters. Evolve from `t=0` to `t=4L`, i.e. for two crossing times. Plot the result."
   ]
  },
  {
   "cell_type": "markdown",
   "id": "outside-leadership",
   "metadata": {},
   "source": [
    "2. Vary the time step size `dt`. If you choose `dt` too large, the discrete system will be unstable. What is the stability limit? Why does this happen? How could you avoid this limit?"
   ]
  },
  {
   "cell_type": "markdown",
   "id": "serious-accuracy",
   "metadata": {},
   "source": [
    "3. The energy density of a scalar wave is `epsilon(t,x) = 1/2 ((d/dt u(t,x))^2 + ((d/dx u(t,x))^2)`. Calculate the energy density as a function of space and time for your solution. Plot the result."
   ]
  },
  {
   "cell_type": "markdown",
   "id": "driving-image",
   "metadata": {},
   "source": [
    "4. To calculate the total energy `E(t)` as a function of time, you need to integrate it over space. One way to do so is using the function below. Calculate and show the total energy `E(t)` as a function of time. How well is the energy conserved? How does this depend on the grid spacings `dx` and `dt?"
   ]
  },
  {
   "cell_type": "code",
   "execution_count": 1,
   "id": "mexican-mirror",
   "metadata": {},
   "outputs": [
    {
     "data": {
      "text/plain": [
       "integrate (generic function with 1 method)"
      ]
     },
     "execution_count": 1,
     "metadata": {},
     "output_type": "execute_result"
    }
   ],
   "source": [
    "# Integrate `epsilon` over space\n",
    "function integrate(epsilon, n, dx)\n",
    "    ni, nt = size(epsilon)\n",
    "    # The boundary points are special; they have a weight of 1/2.\n",
    "    # There are `ni` points overall, and the grid spacing is `dx = 2L/(ni-1)`.\n",
    "    # Integrating the constant function `epsilon=1` thus gives exactly `2L`.\n",
    "    E = epsilon[1, n] / 2\n",
    "    for i in 2:ni-1\n",
    "        E += epsilon[i, n]\n",
    "    end\n",
    "    E += epsilon[ni, n] / 2\n",
    "    # Scale by the grid spacing\n",
    "    E *= dx\n",
    "    return E\n",
    "end"
   ]
  },
  {
   "cell_type": "code",
   "execution_count": null,
   "id": "nervous-mobility",
   "metadata": {},
   "outputs": [],
   "source": []
  }
 ],
 "metadata": {
  "kernelspec": {
   "display_name": "Julia 1.8.5",
   "language": "julia",
   "name": "julia-1.8"
  },
  "language_info": {
   "file_extension": ".jl",
   "mimetype": "application/julia",
   "name": "julia",
   "version": "1.8.5"
  }
 },
 "nbformat": 4,
 "nbformat_minor": 5
}
